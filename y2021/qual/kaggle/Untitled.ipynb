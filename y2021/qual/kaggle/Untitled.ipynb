{
 "cells": [
  {
   "cell_type": "code",
   "execution_count": 5,
   "id": "worse-ground",
   "metadata": {},
   "outputs": [],
   "source": [
    "from collections import namedtuple, defaultdict, deque\n",
    "from enum import Enum\n",
    "import math\n",
    "import copy\n",
    "import random\n",
    "try:\n",
    "    from tqdm import tqdm\n",
    "except ImportError:\n",
    "    tqdm = lambda x: x"
   ]
  },
  {
   "cell_type": "code",
   "execution_count": 2,
   "id": "minus-trading",
   "metadata": {},
   "outputs": [],
   "source": [
    "filename = 'hashcode.in'\n",
    "f = open(filename)\n",
    "input = lambda: next(f)"
   ]
  },
  {
   "cell_type": "code",
   "execution_count": 6,
   "id": "canadian-female",
   "metadata": {},
   "outputs": [],
   "source": [
    "Street = namedtuple(\"Street\", ['start', 'end', 'name', 'duration', 'id'])\n",
    "Car = namedtuple(\"Car\", [\"id\", \"path\"])\n",
    "Intersection = namedtuple(\"Intersection\", \"incoming\")\n",
    "D, I, S, V, F = map(int, input().split())\n",
    "streets = []\n",
    "street_name_to_street_id = dict()\n",
    "intersections = [Intersection(incoming=defaultdict(int)) for i in range(I)]\n",
    "for i in range(S):\n",
    "    s, e, n, d = input().split()\n",
    "    streets.append(Street(int(s), int(e), n, int(d), i))\n",
    "    # intersections[int(e)].incoming[i] += 1\n",
    "    street_name_to_street_id[n] = i\n",
    "cars = []\n",
    "for i in range(V):\n",
    "    inp = input().split()\n",
    "    path = inp[1:]\n",
    "    nice_path = [street_name_to_street_id[x] for x in path]\n",
    "    cars.append(Car(i,nice_path))"
   ]
  },
  {
   "cell_type": "code",
   "execution_count": 7,
   "id": "hawaiian-briefing",
   "metadata": {},
   "outputs": [],
   "source": [
    "for car in cars:\n",
    "    for street_id in car.path[:-1]:\n",
    "        intersections[streets[street_id].end].incoming[street_id] += 1"
   ]
  },
  {
   "cell_type": "code",
   "execution_count": 8,
   "id": "wireless-subsection",
   "metadata": {},
   "outputs": [],
   "source": [
    "from matplotlib import pyplot as plt"
   ]
  },
  {
   "cell_type": "code",
   "execution_count": null,
   "id": "lasting-hybrid",
   "metadata": {},
   "outputs": [],
   "source": [
    "def get_skewedness(interesction_counter):\n",
    "    pass"
   ]
  },
  {
   "cell_type": "code",
   "execution_count": 10,
   "id": "dynamic-variable",
   "metadata": {},
   "outputs": [
    {
     "ename": "NameError",
     "evalue": "name 'get_skewedness' is not defined",
     "output_type": "error",
     "traceback": [
      "\u001b[0;31m---------------------------------------------------------------------------\u001b[0m",
      "\u001b[0;31mNameError\u001b[0m                                 Traceback (most recent call last)",
      "\u001b[0;32m<ipython-input-10-d001e97c5bc4>\u001b[0m in \u001b[0;36m<module>\u001b[0;34m\u001b[0m\n\u001b[0;32m----> 1\u001b[0;31m \u001b[0mplt\u001b[0m\u001b[0;34m.\u001b[0m\u001b[0mhist\u001b[0m\u001b[0;34m(\u001b[0m\u001b[0;34m[\u001b[0m\u001b[0mget_skewedness\u001b[0m\u001b[0;34m(\u001b[0m\u001b[0mintersections\u001b[0m\u001b[0;34m[\u001b[0m\u001b[0mintersection_id\u001b[0m\u001b[0;34m]\u001b[0m\u001b[0;34m)\u001b[0m \u001b[0;32mfor\u001b[0m \u001b[0mintersection_id\u001b[0m \u001b[0;32min\u001b[0m \u001b[0mintersections\u001b[0m\u001b[0;34m]\u001b[0m\u001b[0;34m)\u001b[0m\u001b[0;34m\u001b[0m\u001b[0;34m\u001b[0m\u001b[0m\n\u001b[0m",
      "\u001b[0;32m<ipython-input-10-d001e97c5bc4>\u001b[0m in \u001b[0;36m<listcomp>\u001b[0;34m(.0)\u001b[0m\n\u001b[0;32m----> 1\u001b[0;31m \u001b[0mplt\u001b[0m\u001b[0;34m.\u001b[0m\u001b[0mhist\u001b[0m\u001b[0;34m(\u001b[0m\u001b[0;34m[\u001b[0m\u001b[0mget_skewedness\u001b[0m\u001b[0;34m(\u001b[0m\u001b[0mintersections\u001b[0m\u001b[0;34m[\u001b[0m\u001b[0mintersection_id\u001b[0m\u001b[0;34m]\u001b[0m\u001b[0;34m)\u001b[0m \u001b[0;32mfor\u001b[0m \u001b[0mintersection_id\u001b[0m \u001b[0;32min\u001b[0m \u001b[0mintersections\u001b[0m\u001b[0;34m]\u001b[0m\u001b[0;34m)\u001b[0m\u001b[0;34m\u001b[0m\u001b[0;34m\u001b[0m\u001b[0m\n\u001b[0m",
      "\u001b[0;31mNameError\u001b[0m: name 'get_skewedness' is not defined"
     ]
    }
   ],
   "source": [
    "plt.hist([get_skewedness(intersections[intersection_id]) for intersection_id in intersections])"
   ]
  },
  {
   "cell_type": "code",
   "execution_count": null,
   "id": "dramatic-draft",
   "metadata": {},
   "outputs": [],
   "source": []
  }
 ],
 "metadata": {
  "kernelspec": {
   "display_name": "Python 3",
   "language": "python",
   "name": "python3"
  },
  "language_info": {
   "codemirror_mode": {
    "name": "ipython",
    "version": 3
   },
   "file_extension": ".py",
   "mimetype": "text/x-python",
   "name": "python",
   "nbconvert_exporter": "python",
   "pygments_lexer": "ipython3",
   "version": "3.8.5"
  }
 },
 "nbformat": 4,
 "nbformat_minor": 5
}
