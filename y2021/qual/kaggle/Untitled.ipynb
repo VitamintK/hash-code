{
 "cells": [
  {
   "cell_type": "code",
   "execution_count": 5,
   "id": "connected-greene",
   "metadata": {},
   "outputs": [],
   "source": [
    "from collections import namedtuple, defaultdict, deque\n",
    "from enum import Enum\n",
    "import math\n",
    "import copy\n",
    "import random\n",
    "try:\n",
    "    from tqdm import tqdm\n",
    "except ImportError:\n",
    "    tqdm = lambda x: x"
   ]
  },
  {
   "cell_type": "code",
   "execution_count": 2,
   "id": "nonprofit-cache",
   "metadata": {},
   "outputs": [],
   "source": [
    "filename = 'hashcode.in'\n",
    "f = open(filename)\n",
    "input = lambda: next(f)"
   ]
  },
  {
   "cell_type": "code",
   "execution_count": 6,
   "id": "smooth-ballot",
   "metadata": {},
   "outputs": [],
   "source": [
    "Street = namedtuple(\"Street\", ['start', 'end', 'name', 'duration', 'id'])\n",
    "Car = namedtuple(\"Car\", [\"id\", \"path\"])\n",
    "Intersection = namedtuple(\"Intersection\", \"incoming\")\n",
    "D, I, S, V, F = map(int, input().split())\n",
    "streets = []\n",
    "street_name_to_street_id = dict()\n",
    "intersections = [Intersection(incoming=defaultdict(int)) for i in range(I)]\n",
    "for i in range(S):\n",
    "    s, e, n, d = input().split()\n",
    "    streets.append(Street(int(s), int(e), n, int(d), i))\n",
    "    # intersections[int(e)].incoming[i] += 1\n",
    "    street_name_to_street_id[n] = i\n",
    "cars = []\n",
    "for i in range(V):\n",
    "    inp = input().split()\n",
    "    path = inp[1:]\n",
    "    nice_path = [street_name_to_street_id[x] for x in path]\n",
    "    cars.append(Car(i,nice_path))"
   ]
  },
  {
   "cell_type": "code",
   "execution_count": 7,
   "id": "institutional-mediterranean",
   "metadata": {},
   "outputs": [],
   "source": [
    "for car in cars:\n",
    "    for street_id in car.path[:-1]:\n",
    "        intersections[streets[street_id].end].incoming[street_id] += 1"
   ]
  },
  {
   "cell_type": "code",
   "execution_count": 8,
   "id": "lightweight-origin",
   "metadata": {},
   "outputs": [],
   "source": [
    "from matplotlib import pyplot as plt"
   ]
  },
  {
   "cell_type": "code",
   "execution_count": null,
   "id": "identical-volume",
   "metadata": {},
   "outputs": [],
   "source": [
    "def get_skewedness(interesection_counter):\n",
    "    pass"
   ]
  },
  {
   "cell_type": "code",
   "execution_count": 10,
   "id": "baking-equipment",
   "metadata": {},
   "outputs": [
    {
     "ename": "NameError",
     "evalue": "name 'get_skewedness' is not defined",
     "output_type": "error",
     "traceback": [
      "\u001b[0;31m---------------------------------------------------------------------------\u001b[0m",
      "\u001b[0;31mNameError\u001b[0m                                 Traceback (most recent call last)",
      "\u001b[0;32m<ipython-input-10-d001e97c5bc4>\u001b[0m in \u001b[0;36m<module>\u001b[0;34m\u001b[0m\n\u001b[0;32m----> 1\u001b[0;31m \u001b[0mplt\u001b[0m\u001b[0;34m.\u001b[0m\u001b[0mhist\u001b[0m\u001b[0;34m(\u001b[0m\u001b[0;34m[\u001b[0m\u001b[0mget_skewedness\u001b[0m\u001b[0;34m(\u001b[0m\u001b[0mintersections\u001b[0m\u001b[0;34m[\u001b[0m\u001b[0mintersection_id\u001b[0m\u001b[0;34m]\u001b[0m\u001b[0;34m)\u001b[0m \u001b[0;32mfor\u001b[0m \u001b[0mintersection_id\u001b[0m \u001b[0;32min\u001b[0m \u001b[0mintersections\u001b[0m\u001b[0;34m]\u001b[0m\u001b[0;34m)\u001b[0m\u001b[0;34m\u001b[0m\u001b[0;34m\u001b[0m\u001b[0m\n\u001b[0m",
      "\u001b[0;32m<ipython-input-10-d001e97c5bc4>\u001b[0m in \u001b[0;36m<listcomp>\u001b[0;34m(.0)\u001b[0m\n\u001b[0;32m----> 1\u001b[0;31m \u001b[0mplt\u001b[0m\u001b[0;34m.\u001b[0m\u001b[0mhist\u001b[0m\u001b[0;34m(\u001b[0m\u001b[0;34m[\u001b[0m\u001b[0mget_skewedness\u001b[0m\u001b[0;34m(\u001b[0m\u001b[0mintersections\u001b[0m\u001b[0;34m[\u001b[0m\u001b[0mintersection_id\u001b[0m\u001b[0;34m]\u001b[0m\u001b[0;34m)\u001b[0m \u001b[0;32mfor\u001b[0m \u001b[0mintersection_id\u001b[0m \u001b[0;32min\u001b[0m \u001b[0mintersections\u001b[0m\u001b[0;34m]\u001b[0m\u001b[0;34m)\u001b[0m\u001b[0;34m\u001b[0m\u001b[0;34m\u001b[0m\u001b[0m\n\u001b[0m",
      "\u001b[0;31mNameError\u001b[0m: name 'get_skewedness' is not defined"
     ]
    }
   ],
   "source": [
    "plt.hist([get_skewedness(intersections[intersection_id]) for intersection_id in intersections])"
   ]
  },
  {
   "cell_type": "code",
   "execution_count": 19,
   "id": "solar-collaboration",
   "metadata": {},
   "outputs": [
    {
     "data": {
      "text/plain": [
       "[(1839, 1),\n",
       " (1777, 1),\n",
       " (1921, 1),\n",
       " (1879, 1),\n",
       " (1965, 1),\n",
       " (1613, 1),\n",
       " (2007, 1),\n",
       " (1885, 1),\n",
       " (1925, 1),\n",
       " (2053, 1),\n",
       " (1687, 1),\n",
       " (1501, 1),\n",
       " (1533, 1),\n",
       " (1489, 1),\n",
       " (1943, 1),\n",
       " (1607, 1),\n",
       " (1485, 1),\n",
       " (1577, 1),\n",
       " (1781, 1),\n",
       " (1515, 1),\n",
       " (1471, 1),\n",
       " (1881, 1),\n",
       " (1831, 1),\n",
       " (2061, 1),\n",
       " (1671, 1),\n",
       " (1899, 1),\n",
       " (1815, 1),\n",
       " (1849, 1),\n",
       " (2065, 1),\n",
       " (1467, 1),\n",
       " (1625, 1),\n",
       " (1483, 1),\n",
       " (1609, 1),\n",
       " (2043, 1),\n",
       " (2021, 1),\n",
       " (1695, 1),\n",
       " (1553, 1),\n",
       " (2027, 1),\n",
       " (2077, 1),\n",
       " (2003, 1),\n",
       " (1595, 1),\n",
       " (1477, 1),\n",
       " (1507, 1),\n",
       " (1641, 1),\n",
       " (1949, 1),\n",
       " (2069, 1),\n",
       " (1699, 1),\n",
       " (1543, 1),\n",
       " (1505, 1),\n",
       " (1859, 1),\n",
       " (1981, 1),\n",
       " (1753, 1),\n",
       " (1731, 1),\n",
       " (1555, 1),\n",
       " (1569, 1),\n",
       " (1895, 1),\n",
       " (1627, 1),\n",
       " (1491, 1),\n",
       " (1683, 1),\n",
       " (1755, 1),\n",
       " (1995, 1),\n",
       " (1763, 1),\n",
       " (1765, 1),\n",
       " (2025, 1),\n",
       " (1531, 1),\n",
       " (1877, 1),\n",
       " (1631, 1),\n",
       " (1929, 1),\n",
       " (1691, 1),\n",
       " (498, 1),\n",
       " (1521, 1),\n",
       " (1811, 1),\n",
       " (1793, 1),\n",
       " (1947, 1),\n",
       " (1771, 1),\n",
       " (1999, 1),\n",
       " (1951, 1),\n",
       " (1893, 1),\n",
       " (1541, 1),\n",
       " (1901, 1),\n",
       " (1789, 1),\n",
       " (1575, 1),\n",
       " (1837, 1),\n",
       " (1635, 1),\n",
       " (2019, 1),\n",
       " (1547, 1),\n",
       " (1829, 1),\n",
       " (1903, 1),\n",
       " (1955, 1),\n",
       " (1559, 1),\n",
       " (1549, 1),\n",
       " (1615, 1),\n",
       " (1713, 1),\n",
       " (1915, 1),\n",
       " (1653, 1),\n",
       " (2073, 1),\n",
       " (1905, 1),\n",
       " (1889, 1),\n",
       " (1747, 1),\n",
       " (1689, 1),\n",
       " (1821, 2),\n",
       " (1735, 2),\n",
       " (1931, 2),\n",
       " (1723, 2),\n",
       " (1913, 2),\n",
       " (2051, 2),\n",
       " (1767, 2),\n",
       " (1865, 2),\n",
       " (1973, 2),\n",
       " (1935, 2),\n",
       " (1977, 2),\n",
       " (1751, 2),\n",
       " (1819, 2),\n",
       " (1617, 2),\n",
       " (1525, 2),\n",
       " (1985, 2),\n",
       " (1673, 2),\n",
       " (2015, 2),\n",
       " (1707, 2),\n",
       " (1803, 2),\n",
       " (1857, 2),\n",
       " (1517, 2),\n",
       " (1605, 2),\n",
       " (1917, 2),\n",
       " (1851, 2),\n",
       " (1495, 2),\n",
       " (1579, 2),\n",
       " (2035, 2),\n",
       " (1565, 2),\n",
       " (1497, 2),\n",
       " (1637, 2),\n",
       " (1757, 2),\n",
       " (1835, 2),\n",
       " (2009, 2),\n",
       " (1655, 2),\n",
       " (2083, 2),\n",
       " (1621, 2),\n",
       " (1681, 2),\n",
       " (1745, 2),\n",
       " (1729, 2),\n",
       " (732, 2),\n",
       " (1861, 2),\n",
       " (1537, 2),\n",
       " (1979, 2),\n",
       " (1967, 2),\n",
       " (1597, 2),\n",
       " (2017, 2),\n",
       " (1649, 2),\n",
       " (1927, 2),\n",
       " (1693, 2),\n",
       " (1493, 2),\n",
       " (2047, 2),\n",
       " (1475, 2),\n",
       " (1709, 2),\n",
       " (1863, 2),\n",
       " (1633, 2),\n",
       " (1761, 2),\n",
       " (1769, 2),\n",
       " (1941, 2),\n",
       " (1717, 2),\n",
       " (2005, 2),\n",
       " (1561, 2),\n",
       " (2039, 2),\n",
       " (1499, 2),\n",
       " (1611, 2),\n",
       " (1945, 2),\n",
       " (2079, 2),\n",
       " (2001, 2),\n",
       " (218, 2),\n",
       " (1883, 2),\n",
       " (1785, 2),\n",
       " (1487, 2),\n",
       " (1743, 3),\n",
       " (2011, 3),\n",
       " (1048, 3),\n",
       " (1773, 3),\n",
       " (1583, 3),\n",
       " (1907, 3),\n",
       " (1535, 3),\n",
       " (1473, 3),\n",
       " (1589, 3),\n",
       " (1809, 3),\n",
       " (2041, 3),\n",
       " (1679, 3),\n",
       " (1733, 3),\n",
       " (1665, 3),\n",
       " (1827, 3),\n",
       " (1787, 3),\n",
       " (1741, 3),\n",
       " (1989, 3),\n",
       " (1511, 3),\n",
       " (2037, 3),\n",
       " (1519, 3),\n",
       " (1719, 3),\n",
       " (1715, 3),\n",
       " (1585, 3),\n",
       " (1581, 3),\n",
       " (1825, 3),\n",
       " (1991, 3),\n",
       " (1647, 3),\n",
       " (1675, 3),\n",
       " (1629, 3),\n",
       " (1775, 3),\n",
       " (2075, 3),\n",
       " (2049, 3),\n",
       " (1975, 3),\n",
       " (1997, 3),\n",
       " (2031, 3),\n",
       " (2063, 3),\n",
       " (1853, 3),\n",
       " (1823, 3),\n",
       " (1737, 3),\n",
       " (1503, 3),\n",
       " (1959, 3),\n",
       " (1805, 3),\n",
       " (1759, 3),\n",
       " (1873, 4),\n",
       " (1599, 4),\n",
       " (1697, 4),\n",
       " (2071, 4),\n",
       " (1619, 4),\n",
       " (1887, 4),\n",
       " (1545, 4),\n",
       " (1847, 4),\n",
       " (1593, 4),\n",
       " (1911, 4),\n",
       " (1871, 4),\n",
       " (1841, 4),\n",
       " (2023, 4),\n",
       " (1573, 4),\n",
       " (1645, 4),\n",
       " (1939, 4),\n",
       " (1937, 4),\n",
       " (1623, 4),\n",
       " (1701, 4),\n",
       " (1509, 4),\n",
       " (2057, 4),\n",
       " (1657, 5),\n",
       " (1961, 5),\n",
       " (1875, 5),\n",
       " (1669, 6),\n",
       " (1529, 6),\n",
       " (1963, 6)]"
      ]
     },
     "execution_count": 19,
     "metadata": {},
     "output_type": "execute_result"
    }
   ],
   "source": [
    "sorted(intersections[5].incoming.items(),key=lambda x:x[1])"
   ]
  },
  {
   "cell_type": "code",
   "execution_count": 20,
   "id": "fatty-favor",
   "metadata": {},
   "outputs": [
    {
     "data": {
      "text/plain": [
       "Street(start=1718, end=5, name='bhbi-f', duration=18, id=1719)"
      ]
     },
     "execution_count": 20,
     "metadata": {},
     "output_type": "execute_result"
    }
   ],
   "source": [
    "streets[1719]"
   ]
  },
  {
   "cell_type": "code",
   "execution_count": 21,
   "id": "treated-package",
   "metadata": {},
   "outputs": [
    {
     "data": {
      "text/plain": [
       "243"
      ]
     },
     "execution_count": 21,
     "metadata": {},
     "output_type": "execute_result"
    }
   ],
   "source": [
    "len(intersections[5].incoming)"
   ]
  },
  {
   "cell_type": "code",
   "execution_count": 22,
   "id": "editorial-maine",
   "metadata": {},
   "outputs": [
    {
     "data": {
      "text/plain": [
       "7071"
      ]
     },
     "execution_count": 22,
     "metadata": {},
     "output_type": "execute_result"
    }
   ],
   "source": [
    "D"
   ]
  },
  {
   "cell_type": "code",
   "execution_count": null,
   "id": "cooked-pacific",
   "metadata": {},
   "outputs": [],
   "source": []
  }
 ],
 "metadata": {
  "kernelspec": {
   "display_name": "Python 3",
   "language": "python",
   "name": "python3"
  },
  "language_info": {
   "codemirror_mode": {
    "name": "ipython",
    "version": 3
   },
   "file_extension": ".py",
   "mimetype": "text/x-python",
   "name": "python",
   "nbconvert_exporter": "python",
   "pygments_lexer": "ipython3",
   "version": "3.8.5"
  }
 },
 "nbformat": 4,
 "nbformat_minor": 5
}
